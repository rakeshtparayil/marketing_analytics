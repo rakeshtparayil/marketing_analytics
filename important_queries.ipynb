{
 "cells": [
  {
   "cell_type": "code",
   "execution_count": null,
   "metadata": {},
   "outputs": [],
   "source": [
    "df.head() #display the first 5 rows of the dataframe\n",
    "df.info() #display the information of the dataframe\n",
    "df.shape #display the shape of the dataframe\n",
    "df.describe() #display the statistics of the dataframe (mean value, standard deviation, min, max, etc.)\n",
    "df.columns #display the columns of the dataframe\n",
    "df.index #display the index of the dataframe"
   ]
  }
 ],
 "metadata": {
  "kernelspec": {
   "display_name": "CAB_V1",
   "language": "python",
   "name": "python3"
  },
  "language_info": {
   "name": "python",
   "version": "3.12.2"
  }
 },
 "nbformat": 4,
 "nbformat_minor": 2
}
