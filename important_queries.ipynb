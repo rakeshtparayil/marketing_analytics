{
 "cells": [
  {
   "cell_type": "code",
   "execution_count": null,
   "metadata": {},
   "outputs": [],
   "source": [
    "df.head() #display the first 5 rows of the dataframe\n",
    "df.info() #display the information of the dataframe\n",
    "df.shape #display the shape of the dataframe\n",
    "df.describe() #display the statistics of the dataframe (mean value, standard deviation, min, max, etc.)\n",
    "df.columns #display the columns of the dataframe\n",
    "df.index #display the index of the dataframe\n",
    "df.sort_values(by='column_name', ascending=False) #sort the dataframe by a specific column\n",
    "df.sort_values(by=['column_name1', 'column_name2'], ascending=[False, True]) #sort the dataframe by multiple columns\n",
    "df[['column_name1', 'column_name2']] #select multiple columns\n",
    "df.isin([value]) #check if a value is in the dataframe\n",
    "df['column_name'].unique() #display the unique values of a column\n",
    "df.nunique() #display the number of unique values in each column\n",
    "df['column_name'].value_counts() #display the frequency of each unique value in a column\n",
    "df.loc[0] #select the first row of the dataframe\n",
    "df.loc[0:5] #select the first 5 rows of the dataframe\n",
    "df.loc[0:5, 'column_name'] #select the first 5 rows of a specific column\n",
    "df.loc[df['column_name'] > value] #select rows based on a condition\n",
    "df.loc[(df['column_name1'] > value1) & (df['column_name2'] < value2)] #select rows based on multiple conditions\n",
    "df.iloc[0] #select the first row of the dataframe by index\n",
    "df.iloc[0:5] #select the first 5 rows of the dataframe by index\n",
    "df.iloc[0:5, 0] #select the first 5 rows of a specific column by index\n",
    "df.iloc[[0, 1, 2]] #select specific rows by index\n",
    "df.iloc[[0, 1, 2], [0, 1]] #select specific rows and columns by index\n",
    "df.drop('column_name', axis=1) #drop a column from the dataframe\n",
    "df.drop([0, 1, 2]) #drop specific rows from the dataframe\n",
    "df.drop_duplicates() #drop duplicate rows from the dataframe\n",
    "df.dropna() #drop rows with missing values from the dataframe\n",
    "df.fillna(value) #fill missing values in the dataframe with a specific value\n",
    "df.rolling(window=2).mean() #calculate the rolling mean of the dataframe\n",
    "df['new_column'] = df['column_name1'] + df['column_name2'] #add a new column to the dataframe   \n",
    "df['new_column'] = df.apply(lambda row: row['column_name1'] + row['column_name2'], axis=1) #add a new column to the dataframe using a function\n",
    "df['new_column'] = df['column_name'].apply(lambda x: function(x)) #add a new column to the dataframe using a function\n",
    "df['new_column'] = df['column_name'].map(dictionary) #add a new column to the dataframe using a dictionary\n",
    "df.rename(columns={'old_column': 'new_column'}) #rename a column in the dataframe\n",
    "df.rename(index={0: 'A', 1: 'B', 2: 'C'}) #rename an index in the dataframe\n",
    "df.set_index('column_name') #set a column as the index of the dataframe\n",
    "df.reset_index() #reset the index of the dataframe\n",
    "df.groupby('column_name').mean() #group the dataframe by a column and calculate the mean value of each group\n",
    "df.groupby(['column_name1', 'column_name2']).sum() #group the dataframe by multiple columns and calculate the sum of each group\n",
    "df.pivot_table(index='column_name1', columns='column_name2', values='column_name3', aggfunc='mean') #create a pivot table\n",
    "df.merge(df2, on='column_name') #merge two dataframes on a specific column\n",
    "df.merge(df2, left_on='column_name1', right_on='column_name2') #merge two dataframes on different columns\n",
    "pd.concat([df1, df2]) #concatenate two dataframes\n",
    "pd.concat([df1, df2], axis=1) #concatenate two dataframes along the columns\n",
    "df.to_csv('file.csv', index=False) #save the dataframe to a CSV file\n",
    "df.to_excel('file.xlsx', index=False) #save the dataframe to an Excel file\n",
    "df.to_dict() #convert the dataframe to a dictionary\n",
    "df.to_numpy() #convert the dataframe to a NumPy array\n",
    "df.plot() #plot the dataframe\n",
    "df.hist() #plot a histogram of the dataframe\n",
    "df.corr() #calculate the correlation between columns in the dataframe\n",
    "df.cov() #calculate the covariance between columns in the dataframe\n"
   ]
  }
 ],
 "metadata": {
  "kernelspec": {
   "display_name": "CAB_V1",
   "language": "python",
   "name": "python3"
  },
  "language_info": {
   "name": "python",
   "version": "3.12.2"
  }
 },
 "nbformat": 4,
 "nbformat_minor": 2
}
